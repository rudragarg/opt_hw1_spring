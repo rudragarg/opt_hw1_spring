{
  "cells": [
    {
      "cell_type": "code",
      "source": [
        "pip install anvil-uplink"
      ],
      "metadata": {
        "colab": {
          "base_uri": "https://localhost:8080/",
          "height": 266
        },
        "id": "l0uVNkEmi3dp",
        "outputId": "c46725b9-da4c-42f6-ed18-2bfa63fa8b80"
      },
      "execution_count": null,
      "outputs": [
        {
          "output_type": "stream",
          "name": "stdout",
          "text": [
            "Looking in indexes: https://pypi.org/simple, https://us-python.pkg.dev/colab-wheels/public/simple/\n",
            "Requirement already satisfied: anvil-uplink in /usr/local/lib/python3.8/dist-packages (0.4.1)\n",
            "Collecting argparse\n",
            "  Using cached argparse-1.4.0-py2.py3-none-any.whl (23 kB)\n",
            "Requirement already satisfied: ws4py in /usr/local/lib/python3.8/dist-packages (from anvil-uplink) (0.5.1)\n",
            "Requirement already satisfied: future in /usr/local/lib/python3.8/dist-packages (from anvil-uplink) (0.16.0)\n",
            "Requirement already satisfied: six in /usr/local/lib/python3.8/dist-packages (from anvil-uplink) (1.15.0)\n",
            "Installing collected packages: argparse\n",
            "Successfully installed argparse-1.4.0\n"
          ]
        },
        {
          "output_type": "display_data",
          "data": {
            "application/vnd.colab-display-data+json": {
              "pip_warning": {
                "packages": [
                  "argparse"
                ]
              }
            }
          },
          "metadata": {}
        }
      ]
    },
    {
      "cell_type": "code",
      "source": [
        "import tensorflow as tf\n",
        "import pandas as pd\n",
        "import numpy as np\n",
        "import matplotlib.pyplot as plt\n",
        "from keras.preprocessing import image\n",
        "%matplotlib inline"
      ],
      "metadata": {
        "id": "gyJiXqI1emjG"
      },
      "execution_count": 1,
      "outputs": []
    },
    {
      "cell_type": "code",
      "source": [],
      "metadata": {
        "id": "R30FjDDz9GC0"
      },
      "execution_count": null,
      "outputs": []
    },
    {
      "cell_type": "code",
      "execution_count": null,
      "metadata": {
        "id": "WJ0oSikkCagm"
      },
      "outputs": [],
      "source": [
        "# Anvil Uplink Key:\n",
        "# Z6WZMZZ43E5ZKQ7QDDHHHGY3-EFWSMDYORIFSFZST\n",
        "\n",
        "import anvil.server\n",
        "import anvil.media\n",
        "import anvil.mpl_util\n",
        "#anvil.server.connect(\"HWNH2PGX7QD7BPJZMOH6W52N-6LRJ6K5Q6VPRVAKM\")\n"
      ]
    },
    {
      "cell_type": "code",
      "source": [
        "!unzip final_network.zip"
      ],
      "metadata": {
        "colab": {
          "base_uri": "https://localhost:8080/"
        },
        "id": "cyJ1RlIqna4h",
        "outputId": "e2fa11c7-bd54-4189-edf3-dd7992e90ef6"
      },
      "execution_count": null,
      "outputs": [
        {
          "output_type": "stream",
          "name": "stdout",
          "text": [
            "Archive:  final_network.zip\n",
            "   creating: final_network/\n",
            "   creating: final_network/variables/\n",
            "  inflating: final_network/variables/variables.data-00000-of-00001  \n",
            "  inflating: final_network/variables/variables.index  \n",
            "  inflating: final_network/keras_metadata.pb  \n",
            "   creating: final_network/assets/\n",
            "  inflating: final_network/saved_model.pb  \n"
          ]
        }
      ]
    },
    {
      "cell_type": "code",
      "source": [
        "anvil.server.connect(\"NYNR7O4KBJTB45RIXBDXD555-RDDQF6NOXBMPYLE7\")\n",
        "@anvil.server.callable\n",
        "def model_run(file):\n",
        "  print(\"Called model_run\")\n",
        "  with anvil.media.TempFile(file) as file_name:\n",
        "\n",
        "    print(\"File Uploaded\")\n",
        "\n",
        "    input_file = np.genfromtxt(file_name, delimiter=',')  \n",
        "\n",
        "    input_arr = input_file.reshape((1,28,28,1))\n",
        "    result = np.argmax(model.predict(input_arr), axis=1)[0]\n",
        "    \n",
        "\n",
        "    print(\"Predicted Number is:\", result)\n",
        "    plt.pcolor( 1-input_file[::-1], cmap = 'gray')\n",
        "    plt.axis('off')\n",
        "\n",
        "    print(\"Returned Image\")\n",
        "    \n",
        "    \n",
        "    \n",
        "    return str(result), anvil.mpl_util.plot_image()\n",
        "\n",
        "model = tf.keras.models.load_model('final_network')\n",
        "anvil.server.wait_forever()"
      ],
      "metadata": {
        "colab": {
          "base_uri": "https://localhost:8080/",
          "height": 614
        },
        "id": "Jn7ax2AWgvBw",
        "outputId": "ff03f3ed-4bc6-480a-8c41-0fa0ecf1f1cf"
      },
      "execution_count": null,
      "outputs": [
        {
          "output_type": "stream",
          "name": "stdout",
          "text": [
            "Called model_run\n",
            "File Uploaded\n",
            "1/1 [==============================] - 0s 96ms/step\n",
            "Predicted Number is: 8\n",
            "Returned Image\n"
          ]
        },
        {
          "output_type": "error",
          "ename": "KeyboardInterrupt",
          "evalue": "ignored",
          "traceback": [
            "\u001b[0;31m---------------------------------------------------------------------------\u001b[0m",
            "\u001b[0;31mKeyboardInterrupt\u001b[0m                         Traceback (most recent call last)",
            "\u001b[0;32m<ipython-input-11-e9a9acb6b0a3>\u001b[0m in \u001b[0;36m<module>\u001b[0;34m\u001b[0m\n\u001b[1;32m     24\u001b[0m \u001b[0;34m\u001b[0m\u001b[0m\n\u001b[1;32m     25\u001b[0m \u001b[0mmodel\u001b[0m \u001b[0;34m=\u001b[0m \u001b[0mtf\u001b[0m\u001b[0;34m.\u001b[0m\u001b[0mkeras\u001b[0m\u001b[0;34m.\u001b[0m\u001b[0mmodels\u001b[0m\u001b[0;34m.\u001b[0m\u001b[0mload_model\u001b[0m\u001b[0;34m(\u001b[0m\u001b[0;34m'final_network'\u001b[0m\u001b[0;34m)\u001b[0m\u001b[0;34m\u001b[0m\u001b[0;34m\u001b[0m\u001b[0m\n\u001b[0;32m---> 26\u001b[0;31m \u001b[0manvil\u001b[0m\u001b[0;34m.\u001b[0m\u001b[0mserver\u001b[0m\u001b[0;34m.\u001b[0m\u001b[0mwait_forever\u001b[0m\u001b[0;34m(\u001b[0m\u001b[0;34m)\u001b[0m\u001b[0;34m\u001b[0m\u001b[0;34m\u001b[0m\u001b[0m\n\u001b[0m",
            "\u001b[0;32m/usr/local/lib/python3.8/dist-packages/anvil/server.py\u001b[0m in \u001b[0;36mwait_forever\u001b[0;34m()\u001b[0m\n\u001b[1;32m    432\u001b[0m     \u001b[0m_get_connection\u001b[0m\u001b[0;34m(\u001b[0m\u001b[0;34m)\u001b[0m\u001b[0;34m\u001b[0m\u001b[0;34m\u001b[0m\u001b[0m\n\u001b[1;32m    433\u001b[0m     \u001b[0;32mwhile\u001b[0m \u001b[0;32mTrue\u001b[0m\u001b[0;34m:\u001b[0m\u001b[0;34m\u001b[0m\u001b[0;34m\u001b[0m\u001b[0m\n\u001b[0;32m--> 434\u001b[0;31m         \u001b[0mtime\u001b[0m\u001b[0;34m.\u001b[0m\u001b[0msleep\u001b[0m\u001b[0;34m(\u001b[0m\u001b[0;36m1\u001b[0m\u001b[0;34m)\u001b[0m\u001b[0;34m\u001b[0m\u001b[0;34m\u001b[0m\u001b[0m\n\u001b[0m",
            "\u001b[0;31mKeyboardInterrupt\u001b[0m: "
          ]
        },
        {
          "output_type": "display_data",
          "data": {
            "text/plain": [
              "<Figure size 432x288 with 1 Axes>"
            ],
            "image/png": "[encoded data removed]"
          },
          "metadata": {
            "needs_background": "light"
          }
        }
      ]
    },
    {
      "cell_type": "code",
      "source": [
        "import pandas as pd\n",
        "import anvil.media\n",
        "import anvil.tables as tables\n",
        "import anvil.tables.query as q\n",
        "from anvil.tables import app_tables\n",
        "\n",
        "import anvil.mpl_util\n",
        "\n",
        "\n",
        "\n",
        "@anvil.server.callable\n",
        "def model_run(file):\n",
        "\n",
        "  with anvil.media.TempFile(file) as file_name:\n",
        "\n",
        "\n",
        "    input_file = np.genfromtxt(file_name, delimiter=',')\n",
        "    input_arr = input_file.reshape((1,28,28,1))\n",
        "    model = tf.keras.models.load_model('final_network')\n",
        "    result = np.argmax(model.predict(input_arr), axis=1)[0]\n",
        "    print(result)\n",
        "    fig = plt.figure()\n",
        "    print(\"created fig\")\n",
        "    plt.pcolor( 1-input_file[::-1], cmap = 'gray')\n",
        "    print(\"plotted\")\n",
        "    plt.axis('off')\n",
        "    \n",
        "\n",
        "    print(\"HERE\")\n",
        "\n",
        "    \n",
        "    return 'Predicted Number is: {}'.format(result), anvil.mpl_util.plot_image()\n",
        "\n",
        "anvil.server.wait_forever()"
      ],
      "metadata": {
        "id": "0Qr9_sbxyKf0",
        "colab": {
          "base_uri": "https://localhost:8080/",
          "height": 923
        },
        "outputId": "6c378577-40c1-483f-94b3-b9ea6f087445"
      },
      "execution_count": null,
      "outputs": [
        {
          "output_type": "stream",
          "name": "stdout",
          "text": [
            "1/1 [==============================] - 0s 70ms/step\n",
            "8\n",
            "created fig\n",
            "plotted\n",
            "HERE\n",
            "1/1 [==============================] - 0s 70ms/step\n",
            "7\n",
            "created fig\n",
            "plotted\n",
            "HERE\n"
          ]
        },
        {
          "output_type": "error",
          "ename": "KeyboardInterrupt",
          "evalue": "ignored",
          "traceback": [
            "\u001b[0;31m---------------------------------------------------------------------------\u001b[0m",
            "\u001b[0;31mKeyboardInterrupt\u001b[0m                         Traceback (most recent call last)",
            "\u001b[0;32m<ipython-input-96-f2b71972f48f>\u001b[0m in \u001b[0;36m<module>\u001b[0;34m\u001b[0m\n\u001b[1;32m     59\u001b[0m       \u001b[0;31m#return ('Predicted Number is: {}'.format(result))\u001b[0m\u001b[0;34m\u001b[0m\u001b[0;34m\u001b[0m\u001b[0;34m\u001b[0m\u001b[0m\n\u001b[1;32m     60\u001b[0m \u001b[0;34m\u001b[0m\u001b[0m\n\u001b[0;32m---> 61\u001b[0;31m \u001b[0manvil\u001b[0m\u001b[0;34m.\u001b[0m\u001b[0mserver\u001b[0m\u001b[0;34m.\u001b[0m\u001b[0mwait_forever\u001b[0m\u001b[0;34m(\u001b[0m\u001b[0;34m)\u001b[0m\u001b[0;34m\u001b[0m\u001b[0;34m\u001b[0m\u001b[0m\n\u001b[0m",
            "\u001b[0;32m/usr/local/lib/python3.8/dist-packages/anvil/server.py\u001b[0m in \u001b[0;36mwait_forever\u001b[0;34m()\u001b[0m\n\u001b[1;32m    432\u001b[0m     \u001b[0m_get_connection\u001b[0m\u001b[0;34m(\u001b[0m\u001b[0;34m)\u001b[0m\u001b[0;34m\u001b[0m\u001b[0;34m\u001b[0m\u001b[0m\n\u001b[1;32m    433\u001b[0m     \u001b[0;32mwhile\u001b[0m \u001b[0;32mTrue\u001b[0m\u001b[0;34m:\u001b[0m\u001b[0;34m\u001b[0m\u001b[0;34m\u001b[0m\u001b[0m\n\u001b[0;32m--> 434\u001b[0;31m         \u001b[0mtime\u001b[0m\u001b[0;34m.\u001b[0m\u001b[0msleep\u001b[0m\u001b[0;34m(\u001b[0m\u001b[0;36m1\u001b[0m\u001b[0;34m)\u001b[0m\u001b[0;34m\u001b[0m\u001b[0;34m\u001b[0m\u001b[0m\n\u001b[0m",
            "\u001b[0;31mKeyboardInterrupt\u001b[0m: "
          ]
        },
        {
          "output_type": "display_data",
          "data": {
            "text/plain": [
              "<Figure size 432x288 with 1 Axes>"
            ],
            "image/png": "[encoded data removed]"
          },
          "metadata": {
            "needs_background": "light"
          }
        },
        {
          "output_type": "display_data",
          "data": {
            "text/plain": [
              "<Figure size 432x288 with 1 Axes>"
            ],
            "image/png": "[encoded data removed]"
          },
          "metadata": {
            "needs_background": "light"
          }
        }
      ]
    },
    {
      "cell_type": "code",
      "execution_count": 2,
      "metadata": {
        "id": "cC90Zc1JCag0",
        "colab": {
          "base_uri": "https://localhost:8080/"
        },
        "outputId": "ead8b0e9-cce7-494e-fdce-0c3a437ec238"
      },
      "outputs": [
        {
          "output_type": "stream",
          "name": "stdout",
          "text": [
            "Downloading data from https://storage.googleapis.com/tensorflow/tf-keras-datasets/mnist.npz\n",
            "11490434/11490434 [==============================] - 2s 0us/step\n"
          ]
        }
      ],
      "source": [
        "mnist = tf.keras.datasets.mnist\n",
        "\n",
        "(x_train, y_train),(x_test, y_test) = mnist.load_data()\n",
        "x_train, x_test = x_train.astype(\"float32\") / 255.0, x_test.astype(\"float32\") / 255.0\n",
        "\n",
        "ndata_train = x_train.shape[0]\n",
        "ndata_test = x_test.shape[0]\n"
      ]
    },
    {
      "cell_type": "code",
      "execution_count": 3,
      "metadata": {
        "id": "WLk18_VGCag4"
      },
      "outputs": [],
      "source": [
        "x_train = x_train.reshape((ndata_train,28,28,1)) # Add color dim for greyscale...greyscale is one value and not like RGB where there are 3\n",
        "x_test = x_test.reshape((ndata_test,28,28,1))\n",
        "\n",
        "\n",
        "xshape = x_train.shape[1:4]\n",
        "\n"
      ]
    },
    {
      "cell_type": "code",
      "execution_count": 8,
      "metadata": {
        "id": "rdfpHS5QCahV"
      },
      "outputs": [],
      "source": [
        "NNmodel2 = tf.keras.models.Sequential([\n",
        "        tf.keras.layers.Conv2D(filters=32,kernel_size=(3,3),activation=tf.nn.relu,input_shape=xshape),\n",
        "        tf.keras.layers.Conv2D(filters=64,kernel_size=(3,3),activation=tf.nn.relu,input_shape=xshape),\n",
        "        tf.keras.layers.MaxPooling2D(pool_size = (2,2),strides=2),\n",
        "        tf.keras.layers.Conv2D(filters=128,kernel_size=(3,3),activation=tf.nn.relu,input_shape=xshape),\n",
        "        tf.keras.layers.Conv2D(filters=256,kernel_size=(3,3),activation=tf.nn.relu,input_shape=xshape),\n",
        "        tf.keras.layers.MaxPooling2D(pool_size = (2,2),strides=2),\n",
        "        tf.keras.layers.Flatten(), # this layer is VERY important between conv and dense!\n",
        "        tf.keras.layers.Dropout(0.75),\n",
        "        tf.keras.layers.Dense(128, activation = \"relu\"),\n",
        "        tf.keras.layers.Dense(64, activation = \"relu\"),\n",
        "        tf.keras.layers.Dense(10,activation=tf.nn.softmax)\n",
        "        ])"
      ]
    },
    {
      "cell_type": "code",
      "execution_count": 9,
      "metadata": {
        "id": "caahsRsCCahX",
        "colab": {
          "base_uri": "https://localhost:8080/"
        },
        "outputId": "d4cd22d7-f916-4b41-c086-54c2e233a2a1"
      },
      "outputs": [
        {
          "output_type": "stream",
          "name": "stdout",
          "text": [
            "Model: \"sequential_1\"\n",
            "_________________________________________________________________\n",
            " Layer (type)                Output Shape              Param #   \n",
            "=================================================================\n",
            " conv2d_4 (Conv2D)           (None, 26, 26, 32)        320       \n",
            "                                                                 \n",
            " conv2d_5 (Conv2D)           (None, 24, 24, 64)        18496     \n",
            "                                                                 \n",
            " max_pooling2d_2 (MaxPooling  (None, 12, 12, 64)       0         \n",
            " 2D)                                                             \n",
            "                                                                 \n",
            " conv2d_6 (Conv2D)           (None, 10, 10, 128)       73856     \n",
            "                                                                 \n",
            " conv2d_7 (Conv2D)           (None, 8, 8, 256)         295168    \n",
            "                                                                 \n",
            " max_pooling2d_3 (MaxPooling  (None, 4, 4, 256)        0         \n",
            " 2D)                                                             \n",
            "                                                                 \n",
            " flatten_1 (Flatten)         (None, 4096)              0         \n",
            "                                                                 \n",
            " dropout_1 (Dropout)         (None, 4096)              0         \n",
            "                                                                 \n",
            " dense_3 (Dense)             (None, 128)               524416    \n",
            "                                                                 \n",
            " dense_4 (Dense)             (None, 64)                8256      \n",
            "                                                                 \n",
            " dense_5 (Dense)             (None, 10)                650       \n",
            "                                                                 \n",
            "=================================================================\n",
            "Total params: 921,162\n",
            "Trainable params: 921,162\n",
            "Non-trainable params: 0\n",
            "_________________________________________________________________\n"
          ]
        }
      ],
      "source": [
        "NNmodel2.compile(optimizer='adam',\n",
        "              loss='sparse_categorical_crossentropy',\n",
        "              metrics=['accuracy'])\n",
        "\n",
        "NNmodel2.summary()"
      ]
    },
    {
      "cell_type": "code",
      "execution_count": 10,
      "metadata": {
        "id": "eVhxwOPGCahZ",
        "colab": {
          "base_uri": "https://localhost:8080/"
        },
        "outputId": "2410787f-fddf-4e9c-e5f6-8113568bd5d1"
      },
      "outputs": [
        {
          "output_type": "stream",
          "name": "stdout",
          "text": [
            "Epoch 1/25\n",
            "94/94 [==============================] - 5s 45ms/step - loss: 0.4420 - accuracy: 0.8596 - val_loss: 0.0809 - val_accuracy: 0.9747\n",
            "Epoch 2/25\n",
            "94/94 [==============================] - 4s 42ms/step - loss: 0.0975 - accuracy: 0.9701 - val_loss: 0.0516 - val_accuracy: 0.9850\n",
            "Epoch 3/25\n",
            "94/94 [==============================] - 4s 42ms/step - loss: 0.0660 - accuracy: 0.9798 - val_loss: 0.0428 - val_accuracy: 0.9871\n",
            "Epoch 4/25\n",
            "94/94 [==============================] - 4s 42ms/step - loss: 0.0501 - accuracy: 0.9836 - val_loss: 0.0408 - val_accuracy: 0.9867\n",
            "Epoch 5/25\n",
            "94/94 [==============================] - 4s 42ms/step - loss: 0.0441 - accuracy: 0.9856 - val_loss: 0.0308 - val_accuracy: 0.9910\n",
            "Epoch 6/25\n",
            "94/94 [==============================] - 4s 43ms/step - loss: 0.0388 - accuracy: 0.9876 - val_loss: 0.0306 - val_accuracy: 0.9909\n",
            "Epoch 7/25\n",
            "94/94 [==============================] - 4s 43ms/step - loss: 0.0348 - accuracy: 0.9889 - val_loss: 0.0277 - val_accuracy: 0.9917\n",
            "Epoch 8/25\n",
            "94/94 [==============================] - 4s 43ms/step - loss: 0.0295 - accuracy: 0.9902 - val_loss: 0.0256 - val_accuracy: 0.9925\n",
            "Epoch 9/25\n",
            "94/94 [==============================] - 4s 43ms/step - loss: 0.0292 - accuracy: 0.9907 - val_loss: 0.0270 - val_accuracy: 0.9921\n",
            "Epoch 10/25\n",
            "94/94 [==============================] - 4s 42ms/step - loss: 0.0247 - accuracy: 0.9918 - val_loss: 0.0321 - val_accuracy: 0.9912\n",
            "Epoch 11/25\n",
            "94/94 [==============================] - 4s 42ms/step - loss: 0.0253 - accuracy: 0.9920 - val_loss: 0.0290 - val_accuracy: 0.9914\n",
            "Epoch 12/25\n",
            "94/94 [==============================] - 4s 42ms/step - loss: 0.0228 - accuracy: 0.9928 - val_loss: 0.0261 - val_accuracy: 0.9921\n",
            "Epoch 13/25\n",
            "94/94 [==============================] - 4s 42ms/step - loss: 0.0210 - accuracy: 0.9931 - val_loss: 0.0273 - val_accuracy: 0.9925\n",
            "Epoch 14/25\n",
            "94/94 [==============================] - 4s 42ms/step - loss: 0.0210 - accuracy: 0.9929 - val_loss: 0.0221 - val_accuracy: 0.9937\n",
            "Epoch 15/25\n",
            "94/94 [==============================] - 4s 42ms/step - loss: 0.0175 - accuracy: 0.9941 - val_loss: 0.0261 - val_accuracy: 0.9927\n",
            "Epoch 16/25\n",
            "94/94 [==============================] - 4s 42ms/step - loss: 0.0173 - accuracy: 0.9945 - val_loss: 0.0246 - val_accuracy: 0.9931\n",
            "Epoch 17/25\n",
            "94/94 [==============================] - 4s 41ms/step - loss: 0.0172 - accuracy: 0.9940 - val_loss: 0.0232 - val_accuracy: 0.9937\n",
            "Epoch 18/25\n",
            "94/94 [==============================] - 4s 42ms/step - loss: 0.0148 - accuracy: 0.9950 - val_loss: 0.0272 - val_accuracy: 0.9937\n",
            "Epoch 19/25\n",
            "94/94 [==============================] - 4s 41ms/step - loss: 0.0142 - accuracy: 0.9954 - val_loss: 0.0221 - val_accuracy: 0.9933\n",
            "Epoch 20/25\n",
            "94/94 [==============================] - 4s 42ms/step - loss: 0.0122 - accuracy: 0.9960 - val_loss: 0.0219 - val_accuracy: 0.9942\n",
            "Epoch 21/25\n",
            "94/94 [==============================] - 4s 42ms/step - loss: 0.0135 - accuracy: 0.9954 - val_loss: 0.0241 - val_accuracy: 0.9937\n",
            "Epoch 22/25\n",
            "94/94 [==============================] - 4s 42ms/step - loss: 0.0124 - accuracy: 0.9959 - val_loss: 0.0233 - val_accuracy: 0.9940\n",
            "Epoch 23/25\n",
            "94/94 [==============================] - 4s 42ms/step - loss: 0.0132 - accuracy: 0.9958 - val_loss: 0.0246 - val_accuracy: 0.9939\n",
            "Epoch 24/25\n",
            "94/94 [==============================] - 4s 42ms/step - loss: 0.0101 - accuracy: 0.9964 - val_loss: 0.0239 - val_accuracy: 0.9943\n",
            "Epoch 25/25\n",
            "94/94 [==============================] - 4s 42ms/step - loss: 0.0104 - accuracy: 0.9966 - val_loss: 0.0246 - val_accuracy: 0.9941\n"
          ]
        },
        {
          "output_type": "execute_result",
          "data": {
            "text/plain": [
              "<keras.callbacks.History at 0x7f2176325af0>"
            ]
          },
          "metadata": {},
          "execution_count": 10
        }
      ],
      "source": [
        "NNmodel2.fit(x_train,y_train,epochs=25,validation_split=0.2,batch_size=512)"
      ]
    },
    {
      "cell_type": "code",
      "source": [
        "pred_probs2 = NNmodel2.predict(x_test)\n",
        "pred2 = np.argmax(pred_probs2, axis=1)\n",
        "print(np.mean(pred2==y_test))"
      ],
      "metadata": {
        "colab": {
          "base_uri": "https://localhost:8080/"
        },
        "id": "F1OP90tqc41r",
        "outputId": "1ee4a1b5-834c-495d-ffe7-641ce1c98691"
      },
      "execution_count": 11,
      "outputs": [
        {
          "output_type": "stream",
          "name": "stdout",
          "text": [
            "313/313 [==============================] - 1s 2ms/step\n",
            "0.9953\n"
          ]
        }
      ]
    },
    {
      "cell_type": "code",
      "source": [
        "NNmodel2.save('network')"
      ],
      "metadata": {
        "colab": {
          "base_uri": "https://localhost:8080/"
        },
        "id": "dD7zMOsqla3u",
        "outputId": "3a378986-0062-4dd0-ce7a-a23ab014018b"
      },
      "execution_count": null,
      "outputs": [
        {
          "output_type": "stream",
          "name": "stderr",
          "text": [
            "WARNING:absl:Found untraced functions such as _jit_compiled_convolution_op, _jit_compiled_convolution_op, _jit_compiled_convolution_op, _jit_compiled_convolution_op while saving (showing 4 of 4). These functions will not be directly callable after loading.\n"
          ]
        }
      ]
    },
    {
      "cell_type": "code",
      "source": [
        "model = tf.keras.models.load_model('network')"
      ],
      "metadata": {
        "id": "uoguj9_jlzW-"
      },
      "execution_count": null,
      "outputs": []
    },
    {
      "cell_type": "code",
      "source": [
        "#input_file = pd.read_csv(\"hw1_test.csv\", delimiter=\",\", dtype=str)\n",
        "from numpy import genfromtxt\n",
        "input_file = np.genfromtxt('sample_data.csv', delimiter=',')\n",
        "input_file = input_file.reshape((1,28,28,1))\n",
        "print(input_file.shape)\n",
        "result = np.argmax(NNmodel2.predict(input_file), axis=1)[0]\n",
        "print(result)"
      ],
      "metadata": {
        "id": "1R6l_YrDl8V3",
        "colab": {
          "base_uri": "https://localhost:8080/"
        },
        "outputId": "01453b2b-9118-423b-d4d5-b30f32d653f4"
      },
      "execution_count": null,
      "outputs": [
        {
          "output_type": "stream",
          "name": "stdout",
          "text": [
            "(1, 28, 28, 1)\n",
            "1/1 [==============================] - 0s 16ms/step\n",
            "8\n"
          ]
        }
      ]
    },
    {
      "cell_type": "code",
      "source": [
        "full_train_model = tf.keras.models.Sequential([\n",
        "        tf.keras.layers.Conv2D(filters=32,kernel_size=(3,3),activation=tf.nn.relu,input_shape=xshape),\n",
        "        tf.keras.layers.Conv2D(filters=64,kernel_size=(3,3),activation=tf.nn.relu,input_shape=xshape),\n",
        "        tf.keras.layers.MaxPooling2D(pool_size = (2,2),strides=2),\n",
        "        tf.keras.layers.Conv2D(filters=128,kernel_size=(3,3),activation=tf.nn.relu,input_shape=xshape),\n",
        "        tf.keras.layers.Conv2D(filters=256,kernel_size=(3,3),activation=tf.nn.relu,input_shape=xshape),\n",
        "        tf.keras.layers.MaxPooling2D(pool_size = (2,2),strides=2),\n",
        "        tf.keras.layers.Flatten(), # this layer is VERY important between conv and dense!\n",
        "        tf.keras.layers.Dropout(0.75),\n",
        "        tf.keras.layers.Dense(128, activation = \"relu\"),\n",
        "        tf.keras.layers.Dense(64, activation = \"relu\"),\n",
        "        tf.keras.layers.Dense(10,activation=tf.nn.softmax)\n",
        "])\n",
        "\n",
        "full_train_model.compile(optimizer='adam',\n",
        "              loss='sparse_categorical_crossentropy',\n",
        "              metrics=['accuracy'])\n",
        "\n",
        "full_train_model.summary()"
      ],
      "metadata": {
        "colab": {
          "base_uri": "https://localhost:8080/"
        },
        "id": "ZVyyrjWpl7yd",
        "outputId": "d603b9a3-5167-407e-f497-4d99f545ad49"
      },
      "execution_count": null,
      "outputs": [
        {
          "output_type": "stream",
          "name": "stdout",
          "text": [
            "Model: \"sequential_3\"\n",
            "_________________________________________________________________\n",
            " Layer (type)                Output Shape              Param #   \n",
            "=================================================================\n",
            " conv2d_12 (Conv2D)          (None, 26, 26, 32)        320       \n",
            "                                                                 \n",
            " conv2d_13 (Conv2D)          (None, 24, 24, 64)        18496     \n",
            "                                                                 \n",
            " max_pooling2d_6 (MaxPooling  (None, 12, 12, 64)       0         \n",
            " 2D)                                                             \n",
            "                                                                 \n",
            " conv2d_14 (Conv2D)          (None, 10, 10, 128)       73856     \n",
            "                                                                 \n",
            " conv2d_15 (Conv2D)          (None, 8, 8, 256)         295168    \n",
            "                                                                 \n",
            " max_pooling2d_7 (MaxPooling  (None, 4, 4, 256)        0         \n",
            " 2D)                                                             \n",
            "                                                                 \n",
            " flatten_3 (Flatten)         (None, 4096)              0         \n",
            "                                                                 \n",
            " dropout_3 (Dropout)         (None, 4096)              0         \n",
            "                                                                 \n",
            " dense_9 (Dense)             (None, 128)               524416    \n",
            "                                                                 \n",
            " dense_10 (Dense)            (None, 64)                8256      \n",
            "                                                                 \n",
            " dense_11 (Dense)            (None, 10)                650       \n",
            "                                                                 \n",
            "=================================================================\n",
            "Total params: 921,162\n",
            "Trainable params: 921,162\n",
            "Non-trainable params: 0\n",
            "_________________________________________________________________\n"
          ]
        }
      ]
    },
    {
      "cell_type": "code",
      "source": [
        "full_train_model.fit(x_train,y_train,epochs=25,validation_split=0,batch_size=512)"
      ],
      "metadata": {
        "colab": {
          "base_uri": "https://localhost:8080/"
        },
        "id": "7eCZxp50lpNG",
        "outputId": "a2594be1-8416-40fd-f7ba-9f537f329d4d"
      },
      "execution_count": null,
      "outputs": [
        {
          "output_type": "stream",
          "name": "stdout",
          "text": [
            "Epoch 1/25\n",
            "118/118 [==============================] - 6s 42ms/step - loss: 0.3611 - accuracy: 0.8817\n",
            "Epoch 2/25\n",
            "118/118 [==============================] - 5s 39ms/step - loss: 0.0843 - accuracy: 0.9744\n",
            "Epoch 3/25\n",
            "118/118 [==============================] - 5s 39ms/step - loss: 0.0580 - accuracy: 0.9810\n",
            "Epoch 4/25\n",
            "118/118 [==============================] - 5s 39ms/step - loss: 0.0493 - accuracy: 0.9850\n",
            "Epoch 5/25\n",
            "118/118 [==============================] - 5s 40ms/step - loss: 0.0405 - accuracy: 0.9877\n",
            "Epoch 6/25\n",
            "118/118 [==============================] - 5s 39ms/step - loss: 0.0373 - accuracy: 0.9878\n",
            "Epoch 7/25\n",
            "118/118 [==============================] - 5s 39ms/step - loss: 0.0299 - accuracy: 0.9907\n",
            "Epoch 8/25\n",
            "118/118 [==============================] - 5s 39ms/step - loss: 0.0293 - accuracy: 0.9913\n",
            "Epoch 9/25\n",
            "118/118 [==============================] - 5s 39ms/step - loss: 0.0258 - accuracy: 0.9918\n",
            "Epoch 10/25\n",
            "118/118 [==============================] - 5s 39ms/step - loss: 0.0236 - accuracy: 0.9925\n",
            "Epoch 11/25\n",
            "118/118 [==============================] - 5s 39ms/step - loss: 0.0217 - accuracy: 0.9930\n",
            "Epoch 12/25\n",
            "118/118 [==============================] - 5s 39ms/step - loss: 0.0197 - accuracy: 0.9936\n",
            "Epoch 13/25\n",
            "118/118 [==============================] - 5s 39ms/step - loss: 0.0186 - accuracy: 0.9943\n",
            "Epoch 14/25\n",
            "118/118 [==============================] - 5s 39ms/step - loss: 0.0173 - accuracy: 0.9942\n",
            "Epoch 15/25\n",
            "118/118 [==============================] - 5s 39ms/step - loss: 0.0150 - accuracy: 0.9954\n",
            "Epoch 16/25\n",
            "118/118 [==============================] - 5s 40ms/step - loss: 0.0161 - accuracy: 0.9948\n",
            "Epoch 17/25\n",
            "118/118 [==============================] - 5s 40ms/step - loss: 0.0139 - accuracy: 0.9955\n",
            "Epoch 18/25\n",
            "118/118 [==============================] - 5s 39ms/step - loss: 0.0148 - accuracy: 0.9949\n",
            "Epoch 19/25\n",
            "118/118 [==============================] - 5s 39ms/step - loss: 0.0145 - accuracy: 0.9955\n",
            "Epoch 20/25\n",
            "118/118 [==============================] - 5s 42ms/step - loss: 0.0119 - accuracy: 0.9960\n",
            "Epoch 21/25\n",
            "118/118 [==============================] - 5s 45ms/step - loss: 0.0130 - accuracy: 0.9957\n",
            "Epoch 22/25\n",
            "118/118 [==============================] - 5s 40ms/step - loss: 0.0117 - accuracy: 0.9962\n",
            "Epoch 23/25\n",
            "118/118 [==============================] - 5s 40ms/step - loss: 0.0109 - accuracy: 0.9966\n",
            "Epoch 24/25\n",
            "118/118 [==============================] - 5s 40ms/step - loss: 0.0109 - accuracy: 0.9964\n",
            "Epoch 25/25\n",
            "118/118 [==============================] - 5s 40ms/step - loss: 0.0104 - accuracy: 0.9963\n"
          ]
        },
        {
          "output_type": "execute_result",
          "data": {
            "text/plain": [
              "<keras.callbacks.History at 0x7f02ba6862e0>"
            ]
          },
          "metadata": {},
          "execution_count": 44
        }
      ]
    },
    {
      "cell_type": "code",
      "source": [
        "pred_probs2 = full_train_model.predict(x_test)\n",
        "pred2 = np.argmax(pred_probs2, axis=1)\n",
        "print(np.mean(pred2==y_test))"
      ],
      "metadata": {
        "colab": {
          "base_uri": "https://localhost:8080/"
        },
        "id": "soQPF50HmMzS",
        "outputId": "ed26594f-cd64-4666-a86f-990f98725f48"
      },
      "execution_count": null,
      "outputs": [
        {
          "output_type": "stream",
          "name": "stdout",
          "text": [
            "313/313 [==============================] - 1s 2ms/step\n",
            "0.9949\n"
          ]
        }
      ]
    },
    {
      "cell_type": "code",
      "source": [
        "np.where(pred2!=y_test)"
      ],
      "metadata": {
        "colab": {
          "base_uri": "https://localhost:8080/"
        },
        "id": "Z_4AGW46nRw3",
        "outputId": "42b12aa8-3108-4ec6-ff4e-38d93fe68bf3"
      },
      "execution_count": null,
      "outputs": [
        {
          "output_type": "execute_result",
          "data": {
            "text/plain": [
              "(array([ 321,  625,  659,  924,  947, 1014, 1232, 1247, 1260, 1299, 1681,\n",
              "        1748, 1790, 1901, 2118, 2130, 2135, 2293, 2414, 2462, 2488, 2597,\n",
              "        2654, 2896, 2927, 2939, 3225, 3422, 3520, 3558, 3762, 4078, 4176,\n",
              "        4201, 4504, 4699, 4740, 4761, 4823, 5937, 6571, 6576, 6597, 6625,\n",
              "        6651, 8408, 9638, 9642, 9664, 9729, 9839]),)"
            ]
          },
          "metadata": {},
          "execution_count": 49
        }
      ]
    },
    {
      "cell_type": "code",
      "source": [],
      "metadata": {
        "id": "z-o8nHZgsu8P"
      },
      "execution_count": null,
      "outputs": []
    },
    {
      "cell_type": "code",
      "source": [
        "wrong_indices = np.where(pred2!=y_test)[0]\n",
        "print(\"Number of misclassifications:\", len(wrong_indices))\n",
        "for i in wrong_indices:\n",
        "  sample = x_test[i]\n",
        "  print(\"Pred:\", pred2[i])\n",
        "  print(\"True: \", y_test[i])\n",
        "  number = sample.squeeze(2)\n",
        "  plt.pcolor( 1-number[::-1], cmap = 'gray' ); #flip rows from back to front with ::-1\n",
        "  plt.axis('off')\n",
        "  plt.show()\n",
        "  plt.close()\n",
        "\n",
        "  print(\"-----\")\n",
        "  "
      ],
      "metadata": {
        "colab": {
          "base_uri": "https://localhost:8080/",
          "height": 1000
        },
        "id": "W6MhmbBHn7zr",
        "outputId": "a6457ef5-d328-4489-e090-49552e425df1"
      },
      "execution_count": null,
      "outputs": [
        {
          "output_type": "stream",
          "name": "stdout",
          "text": [
            "Number of misclassifications: 51\n",
            "Pred: 7\n",
            "True:  2\n"
          ]
        },
        {
          "output_type": "display_data",
          "data": {
            "text/plain": [
              "<Figure size 432x288 with 1 Axes>"
            ],
            "image/png": "[encoded data removed]"
          },
          "metadata": {
            "needs_background": "light"
          }
        },
        {
          "output_type": "stream",
          "name": "stdout",
          "text": [
            "-----\n",
            "Pred: 4\n",
            "True:  6\n"
          ]
        },
        {
          "output_type": "display_data",
          "data": {
            "text/plain": [
              "<Figure size 432x288 with 1 Axes>"
            ],
            "image/png": "[encoded data removed]"
          },
          "metadata": {
            "needs_background": "light"
          }
        },
        {
          "output_type": "stream",
          "name": "stdout",
          "text": [
            "-----\n",
            "Pred: 7\n",
            "True:  2\n"
          ]
        },
        {
          "output_type": "display_data",
          "data": {
            "text/plain": [
              "<Figure size 432x288 with 1 Axes>"
            ],
            "image/png": "[encoded data removed]"
          },
          "metadata": {
            "needs_background": "light"
          }
        },
        {
          "output_type": "stream",
          "name": "stdout",
          "text": [
            "-----\n",
            "Pred: 7\n",
            "True:  2\n"
          ]
        },
        {
          "output_type": "display_data",
          "data": {
            "text/plain": [
              "<Figure size 432x288 with 1 Axes>"
            ],
            "image/png": "[encoded data removed]"
          },
          "metadata": {
            "needs_background": "light"
          }
        },
        {
          "output_type": "stream",
          "name": "stdout",
          "text": [
            "-----\n",
            "Pred: 9\n",
            "True:  8\n"
          ]
        },
        {
          "output_type": "display_data",
          "data": {
            "text/plain": [
              "<Figure size 432x288 with 1 Axes>"
            ],
            "image/png": "[encoded data removed]"
          },
          "metadata": {
            "needs_background": "light"
          }
        },
        {
          "output_type": "stream",
          "name": "stdout",
          "text": [
            "-----\n",
            "Pred: 5\n",
            "True:  6\n"
          ]
        },
        {
          "output_type": "display_data",
          "data": {
            "text/plain": [
              "<Figure size 432x288 with 1 Axes>"
            ],
            "image/png": "[encoded data removed]"
          },
          "metadata": {
            "needs_background": "light"
          }
        },
        {
          "output_type": "stream",
          "name": "stdout",
          "text": [
            "-----\n",
            "Pred: 4\n",
            "True:  9\n"
          ]
        },
        {
          "output_type": "display_data",
          "data": {
            "text/plain": [
              "<Figure size 432x288 with 1 Axes>"
            ],
            "image/png": "[encoded data removed]"
          },
          "metadata": {
            "needs_background": "light"
          }
        },
        {
          "output_type": "stream",
          "name": "stdout",
          "text": [
            "-----\n",
            "Pred: 5\n",
            "True:  9\n"
          ]
        },
        {
          "output_type": "display_data",
          "data": {
            "text/plain": [
              "<Figure size 432x288 with 1 Axes>"
            ],
            "image/png": "[encoded data removed]"
          },
          "metadata": {
            "needs_background": "light"
          }
        },
        {
          "output_type": "stream",
          "name": "stdout",
          "text": [
            "-----\n",
            "Pred: 1\n",
            "True:  7\n"
          ]
        },
        {
          "output_type": "display_data",
          "data": {
            "text/plain": [
              "<Figure size 432x288 with 1 Axes>"
            ],
            "image/png": "[encoded data removed]"
          },
          "metadata": {
            "needs_background": "light"
          }
        },
        {
          "output_type": "stream",
          "name": "stdout",
          "text": [
            "-----\n",
            "Pred: 7\n",
            "True:  5\n"
          ]
        },
        {
          "output_type": "display_data",
          "data": {
            "text/plain": [
              "<Figure size 432x288 with 1 Axes>"
            ],
            "image/png": "[encoded data removed]"
          },
          "metadata": {
            "needs_background": "light"
          }
        },
        {
          "output_type": "stream",
          "name": "stdout",
          "text": [
            "-----\n",
            "Pred: 7\n",
            "True:  3\n"
          ]
        },
        {
          "output_type": "display_data",
          "data": {
            "text/plain": [
              "<Figure size 432x288 with 1 Axes>"
            ],
            "image/png": "[encoded data removed]"
          },
          "metadata": {
            "needs_background": "light"
          }
        },
        {
          "output_type": "stream",
          "name": "stdout",
          "text": [
            "-----\n",
            "Pred: 7\n",
            "True:  0\n"
          ]
        },
        {
          "output_type": "display_data",
          "data": {
            "text/plain": [
              "<Figure size 432x288 with 1 Axes>"
            ],
            "image/png": "[encoded data removed]"
          },
          "metadata": {
            "needs_background": "light"
          }
        },
        {
          "output_type": "stream",
          "name": "stdout",
          "text": [
            "-----\n",
            "Pred: 7\n",
            "True:  2\n"
          ]
        },
        {
          "output_type": "display_data",
          "data": {
            "text/plain": [
              "<Figure size 432x288 with 1 Axes>"
            ],
            "image/png": "[encoded data removed]"
          },
          "metadata": {
            "needs_background": "light"
          }
        },
        {
          "output_type": "stream",
          "name": "stdout",
          "text": [
            "-----\n",
            "Pred: 4\n",
            "True:  9\n"
          ]
        },
        {
          "output_type": "display_data",
          "data": {
            "text/plain": [
              "<Figure size 432x288 with 1 Axes>"
            ],
            "image/png": "[encoded data removed]"
          },
          "metadata": {
            "needs_background": "light"
          }
        },
        {
          "output_type": "stream",
          "name": "stdout",
          "text": [
            "-----\n",
            "Pred: 0\n",
            "True:  6\n"
          ]
        },
        {
          "output_type": "display_data",
          "data": {
            "text/plain": [
              "<Figure size 432x288 with 1 Axes>"
            ],
            "image/png": "[encoded data removed]"
          },
          "metadata": {
            "needs_background": "light"
          }
        },
        {
          "output_type": "stream",
          "name": "stdout",
          "text": [
            "-----\n",
            "Pred: 9\n",
            "True:  4\n"
          ]
        },
        {
          "output_type": "display_data",
          "data": {
            "text/plain": [
              "<Figure size 432x288 with 1 Axes>"
            ],
            "image/png": "[encoded data removed]"
          },
          "metadata": {
            "needs_background": "light"
          }
        },
        {
          "output_type": "stream",
          "name": "stdout",
          "text": [
            "-----\n",
            "Pred: 1\n",
            "True:  6\n"
          ]
        },
        {
          "output_type": "display_data",
          "data": {
            "text/plain": [
              "<Figure size 432x288 with 1 Axes>"
            ],
            "image/png": "[encoded data removed]"
          },
          "metadata": {
            "needs_background": "light"
          }
        },
        {
          "output_type": "stream",
          "name": "stdout",
          "text": [
            "-----\n",
            "Pred: 4\n",
            "True:  9\n"
          ]
        },
        {
          "output_type": "display_data",
          "data": {
            "text/plain": [
              "<Figure size 432x288 with 1 Axes>"
            ],
            "image/png": "[encoded data removed]"
          },
          "metadata": {
            "needs_background": "light"
          }
        },
        {
          "output_type": "stream",
          "name": "stdout",
          "text": [
            "-----\n",
            "Pred: 4\n",
            "True:  9\n"
          ]
        },
        {
          "output_type": "display_data",
          "data": {
            "text/plain": [
              "<Figure size 432x288 with 1 Axes>"
            ],
            "image/png": "[encoded data removed]"
          },
          "metadata": {
            "needs_background": "light"
          }
        },
        {
          "output_type": "stream",
          "name": "stdout",
          "text": [
            "-----\n",
            "Pred: 0\n",
            "True:  2\n"
          ]
        },
        {
          "output_type": "display_data",
          "data": {
            "text/plain": [
              "<Figure size 432x288 with 1 Axes>"
            ],
            "image/png": "[encoded data removed]"
          },
          "metadata": {
            "needs_background": "light"
          }
        },
        {
          "output_type": "stream",
          "name": "stdout",
          "text": [
            "-----\n",
            "Pred: 4\n",
            "True:  2\n"
          ]
        },
        {
          "output_type": "display_data",
          "data": {
            "text/plain": [
              "<Figure size 432x288 with 1 Axes>"
            ],
            "image/png": "[encoded data removed]"
          },
          "metadata": {
            "needs_background": "light"
          }
        },
        {
          "output_type": "stream",
          "name": "stdout",
          "text": [
            "-----\n",
            "Pred: 3\n",
            "True:  5\n"
          ]
        },
        {
          "output_type": "display_data",
          "data": {
            "text/plain": [
              "<Figure size 432x288 with 1 Axes>"
            ],
            "image/png": "[encoded data removed]"
          },
          "metadata": {
            "needs_background": "light"
          }
        },
        {
          "output_type": "stream",
          "name": "stdout",
          "text": [
            "-----\n",
            "Pred: 1\n",
            "True:  6\n"
          ]
        },
        {
          "output_type": "display_data",
          "data": {
            "text/plain": [
              "<Figure size 432x288 with 1 Axes>"
            ],
            "image/png": "[encoded data removed]"
          },
          "metadata": {
            "needs_background": "light"
          }
        },
        {
          "output_type": "stream",
          "name": "stdout",
          "text": [
            "-----\n",
            "Pred: 0\n",
            "True:  8\n"
          ]
        },
        {
          "output_type": "display_data",
          "data": {
            "text/plain": [
              "<Figure size 432x288 with 1 Axes>"
            ],
            "image/png": "[encoded data removed]"
          },
          "metadata": {
            "needs_background": "light"
          }
        },
        {
          "output_type": "stream",
          "name": "stdout",
          "text": [
            "-----\n",
            "Pred: 2\n",
            "True:  3\n"
          ]
        },
        {
          "output_type": "display_data",
          "data": {
            "text/plain": [
              "<Figure size 432x288 with 1 Axes>"
            ],
            "image/png": "[encoded data removed]"
          },
          "metadata": {
            "needs_background": "light"
          }
        },
        {
          "output_type": "stream",
          "name": "stdout",
          "text": [
            "-----\n",
            "Pred: 5\n",
            "True:  9\n"
          ]
        },
        {
          "output_type": "display_data",
          "data": {
            "text/plain": [
              "<Figure size 432x288 with 1 Axes>"
            ],
            "image/png": "[encoded data removed]"
          },
          "metadata": {
            "needs_background": "light"
          }
        },
        {
          "output_type": "stream",
          "name": "stdout",
          "text": [
            "-----\n",
            "Pred: 9\n",
            "True:  7\n"
          ]
        },
        {
          "output_type": "display_data",
          "data": {
            "text/plain": [
              "<Figure size 432x288 with 1 Axes>"
            ],
            "image/png": "[encoded data removed]"
          },
          "metadata": {
            "needs_background": "light"
          }
        },
        {
          "output_type": "stream",
          "name": "stdout",
          "text": [
            "-----\n",
            "Pred: 0\n",
            "True:  6\n"
          ]
        },
        {
          "output_type": "display_data",
          "data": {
            "text/plain": [
              "<Figure size 432x288 with 1 Axes>"
            ],
            "image/png": "[encoded data removed]"
          },
          "metadata": {
            "needs_background": "light"
          }
        },
        {
          "output_type": "stream",
          "name": "stdout",
          "text": [
            "-----\n",
            "Pred: 4\n",
            "True:  6\n"
          ]
        },
        {
          "output_type": "display_data",
          "data": {
            "text/plain": [
              "<Figure size 432x288 with 1 Axes>"
            ],
            "image/png": "[encoded data removed]"
          },
          "metadata": {
            "needs_background": "light"
          }
        },
        {
          "output_type": "stream",
          "name": "stdout",
          "text": [
            "-----\n",
            "Pred: 0\n",
            "True:  5\n"
          ]
        },
        {
          "output_type": "display_data",
          "data": {
            "text/plain": [
              "<Figure size 432x288 with 1 Axes>"
            ],
            "image/png": "[encoded data removed]"
          },
          "metadata": {
            "needs_background": "light"
          }
        },
        {
          "output_type": "stream",
          "name": "stdout",
          "text": [
            "-----\n",
            "Pred: 8\n",
            "True:  6\n"
          ]
        },
        {
          "output_type": "display_data",
          "data": {
            "text/plain": [
              "<Figure size 432x288 with 1 Axes>"
            ],
            "image/png": "[encoded data removed]"
          },
          "metadata": {
            "needs_background": "light"
          }
        },
        {
          "output_type": "stream",
          "name": "stdout",
          "text": [
            "-----\n",
            "Pred: 8\n",
            "True:  9\n"
          ]
        },
        {
          "output_type": "display_data",
          "data": {
            "text/plain": [
              "<Figure size 432x288 with 1 Axes>"
            ],
            "image/png": "[encoded data removed]"
          },
          "metadata": {
            "needs_background": "light"
          }
        },
        {
          "output_type": "stream",
          "name": "stdout",
          "text": [
            "-----\n",
            "Pred: 7\n",
            "True:  2\n"
          ]
        },
        {
          "output_type": "display_data",
          "data": {
            "text/plain": [
              "<Figure size 432x288 with 1 Axes>"
            ],
            "image/png": "[encoded data removed]"
          },
          "metadata": {
            "needs_background": "light"
          }
        },
        {
          "output_type": "stream",
          "name": "stdout",
          "text": [
            "-----\n",
            "Pred: 7\n",
            "True:  1\n"
          ]
        },
        {
          "output_type": "display_data",
          "data": {
            "text/plain": [
              "<Figure size 432x288 with 1 Axes>"
            ],
            "image/png": "[encoded data removed]"
          },
          "metadata": {
            "needs_background": "light"
          }
        },
        {
          "output_type": "stream",
          "name": "stdout",
          "text": [
            "-----\n",
            "Pred: 7\n",
            "True:  2\n"
          ]
        },
        {
          "output_type": "display_data",
          "data": {
            "text/plain": [
              "<Figure size 432x288 with 1 Axes>"
            ],
            "image/png": "[encoded data removed]"
          },
          "metadata": {
            "needs_background": "light"
          }
        },
        {
          "output_type": "stream",
          "name": "stdout",
          "text": [
            "-----\n",
            "Pred: 1\n",
            "True:  6\n"
          ]
        },
        {
          "output_type": "display_data",
          "data": {
            "text/plain": [
              "<Figure size 432x288 with 1 Axes>"
            ],
            "image/png": "[encoded data removed]"
          },
          "metadata": {
            "needs_background": "light"
          }
        },
        {
          "output_type": "stream",
          "name": "stdout",
          "text": [
            "-----\n",
            "Pred: 5\n",
            "True:  3\n"
          ]
        },
        {
          "output_type": "display_data",
          "data": {
            "text/plain": [
              "<Figure size 432x288 with 1 Axes>"
            ],
            "image/png": "[encoded data removed]"
          },
          "metadata": {
            "needs_background": "light"
          }
        },
        {
          "output_type": "stream",
          "name": "stdout",
          "text": [
            "-----\n",
            "Pred: 4\n",
            "True:  9\n"
          ]
        },
        {
          "output_type": "display_data",
          "data": {
            "text/plain": [
              "<Figure size 432x288 with 1 Axes>"
            ],
            "image/png": "[encoded data removed]"
          },
          "metadata": {
            "needs_background": "light"
          }
        },
        {
          "output_type": "stream",
          "name": "stdout",
          "text": [
            "-----\n",
            "Pred: 4\n",
            "True:  9\n"
          ]
        },
        {
          "output_type": "display_data",
          "data": {
            "text/plain": [
              "<Figure size 432x288 with 1 Axes>"
            ],
            "image/png": "[encoded data removed]"
          },
          "metadata": {
            "needs_background": "light"
          }
        },
        {
          "output_type": "stream",
          "name": "stdout",
          "text": [
            "-----\n",
            "Pred: 3\n",
            "True:  5\n"
          ]
        },
        {
          "output_type": "display_data",
          "data": {
            "text/plain": [
              "<Figure size 432x288 with 1 Axes>"
            ],
            "image/png": "[encoded data removed]"
          },
          "metadata": {
            "needs_background": "light"
          }
        },
        {
          "output_type": "stream",
          "name": "stdout",
          "text": [
            "-----\n",
            "Pred: 7\n",
            "True:  9\n"
          ]
        },
        {
          "output_type": "display_data",
          "data": {
            "text/plain": [
              "<Figure size 432x288 with 1 Axes>"
            ],
            "image/png": "[encoded data removed]"
          },
          "metadata": {
            "needs_background": "light"
          }
        },
        {
          "output_type": "stream",
          "name": "stdout",
          "text": [
            "-----\n",
            "Pred: 1\n",
            "True:  7\n"
          ]
        },
        {
          "output_type": "display_data",
          "data": {
            "text/plain": [
              "<Figure size 432x288 with 1 Axes>"
            ],
            "image/png": "[encoded data removed]"
          },
          "metadata": {
            "needs_background": "light"
          }
        },
        {
          "output_type": "stream",
          "name": "stdout",
          "text": [
            "-----\n",
            "Pred: 7\n",
            "True:  0\n"
          ]
        },
        {
          "output_type": "display_data",
          "data": {
            "text/plain": [
              "<Figure size 432x288 with 1 Axes>"
            ],
            "image/png": "[encoded data removed]"
          },
          "metadata": {
            "needs_background": "light"
          }
        },
        {
          "output_type": "stream",
          "name": "stdout",
          "text": [
            "-----\n",
            "Pred: 2\n",
            "True:  8\n"
          ]
        },
        {
          "output_type": "display_data",
          "data": {
            "text/plain": [
              "<Figure size 432x288 with 1 Axes>"
            ],
            "image/png": "[encoded data removed]"
          },
          "metadata": {
            "needs_background": "light"
          }
        },
        {
          "output_type": "stream",
          "name": "stdout",
          "text": [
            "-----\n",
            "Pred: 8\n",
            "True:  0\n"
          ]
        },
        {
          "output_type": "display_data",
          "data": {
            "text/plain": [
              "<Figure size 432x288 with 1 Axes>"
            ],
            "image/png": "[encoded data removed]"
          },
          "metadata": {
            "needs_background": "light"
          }
        },
        {
          "output_type": "stream",
          "name": "stdout",
          "text": [
            "-----\n",
            "Pred: 5\n",
            "True:  8\n"
          ]
        },
        {
          "output_type": "display_data",
          "data": {
            "text/plain": [
              "<Figure size 432x288 with 1 Axes>"
            ],
            "image/png": "[encoded data removed]"
          },
          "metadata": {
            "needs_background": "light"
          }
        },
        {
          "output_type": "stream",
          "name": "stdout",
          "text": [
            "-----\n",
            "Pred: 7\n",
            "True:  9\n"
          ]
        },
        {
          "output_type": "display_data",
          "data": {
            "text/plain": [
              "<Figure size 432x288 with 1 Axes>"
            ],
            "image/png": "[encoded data removed]"
          },
          "metadata": {
            "needs_background": "light"
          }
        },
        {
          "output_type": "stream",
          "name": "stdout",
          "text": [
            "-----\n",
            "Pred: 7\n",
            "True:  9\n"
          ]
        },
        {
          "output_type": "display_data",
          "data": {
            "text/plain": [
              "<Figure size 432x288 with 1 Axes>"
            ],
            "image/png": "[encoded data removed]"
          },
          "metadata": {
            "needs_background": "light"
          }
        },
        {
          "output_type": "stream",
          "name": "stdout",
          "text": [
            "-----\n",
            "Pred: 7\n",
            "True:  2\n"
          ]
        },
        {
          "output_type": "display_data",
          "data": {
            "text/plain": [
              "<Figure size 432x288 with 1 Axes>"
            ],
            "image/png": "[encoded data removed]"
          },
          "metadata": {
            "needs_background": "light"
          }
        },
        {
          "output_type": "stream",
          "name": "stdout",
          "text": [
            "-----\n",
            "Pred: 6\n",
            "True:  5\n"
          ]
        },
        {
          "output_type": "display_data",
          "data": {
            "text/plain": [
              "<Figure size 432x288 with 1 Axes>"
            ],
            "image/png": "[encoded data removed]"
          },
          "metadata": {
            "needs_background": "light"
          }
        },
        {
          "output_type": "stream",
          "name": "stdout",
          "text": [
            "-----\n",
            "Pred: 7\n",
            "True:  2\n"
          ]
        },
        {
          "output_type": "display_data",
          "data": {
            "text/plain": [
              "<Figure size 432x288 with 1 Axes>"
            ],
            "image/png": "[encoded data removed]"
          },
          "metadata": {
            "needs_background": "light"
          }
        },
        {
          "output_type": "stream",
          "name": "stdout",
          "text": [
            "-----\n"
          ]
        }
      ]
    },
    {
      "cell_type": "code",
      "source": [
        "  full_train_model.save('final_network')"
      ],
      "metadata": {
        "colab": {
          "base_uri": "https://localhost:8080/"
        },
        "id": "ly9qMqMlpqCF",
        "outputId": "48026ae2-e056-4baa-8374-5f25d71e1de1"
      },
      "execution_count": null,
      "outputs": [
        {
          "output_type": "stream",
          "name": "stderr",
          "text": [
            "WARNING:absl:Found untraced functions such as _jit_compiled_convolution_op, _jit_compiled_convolution_op, _jit_compiled_convolution_op, _jit_compiled_convolution_op while saving (showing 4 of 4). These functions will not be directly callable after loading.\n"
          ]
        }
      ]
    },
    {
      "cell_type": "code",
      "source": [
        "!zip -r final_network.zip final_network"
      ],
      "metadata": {
        "colab": {
          "base_uri": "https://localhost:8080/"
        },
        "id": "UqIhDe-gptfs",
        "outputId": "8f799602-dfb5-44cf-91df-73a27a93db1e"
      },
      "execution_count": null,
      "outputs": [
        {
          "output_type": "stream",
          "name": "stdout",
          "text": [
            "  adding: final_network/ (stored 0%)\n",
            "  adding: final_network/variables/ (stored 0%)\n",
            "  adding: final_network/variables/variables.data-00000-of-00001 (deflated 8%)\n",
            "  adding: final_network/variables/variables.index (deflated 68%)\n",
            "  adding: final_network/keras_metadata.pb (deflated 93%)\n",
            "  adding: final_network/assets/ (stored 0%)\n",
            "  adding: final_network/saved_model.pb (deflated 89%)\n"
          ]
        }
      ]
    },
    {
      "cell_type": "code",
      "source": [
        "from google.colab import files\n",
        "files.download(\"final_network.zip\")"
      ],
      "metadata": {
        "colab": {
          "base_uri": "https://localhost:8080/",
          "height": 17
        },
        "id": "Wn9q-gFOpvq8",
        "outputId": "b533d3f3-c9e0-4842-855f-ae468668159c"
      },
      "execution_count": null,
      "outputs": [
        {
          "output_type": "display_data",
          "data": {
            "text/plain": [
              "<IPython.core.display.Javascript object>"
            ],
            "application/javascript": [
              "\n",
              "    async function download(id, filename, size) {\n",
              "      if (!google.colab.kernel.accessAllowed) {\n",
              "        return;\n",
              "      }\n",
              "      const div = document.createElement('div');\n",
              "      const label = document.createElement('label');\n",
              "      label.textContent = `Downloading \"${filename}\": `;\n",
              "      div.appendChild(label);\n",
              "      const progress = document.createElement('progress');\n",
              "      progress.max = size;\n",
              "      div.appendChild(progress);\n",
              "      document.body.appendChild(div);\n",
              "\n",
              "      const buffers = [];\n",
              "      let downloaded = 0;\n",
              "\n",
              "      const channel = await google.colab.kernel.comms.open(id);\n",
              "      // Send a message to notify the kernel that we're ready.\n",
              "      channel.send({})\n",
              "\n",
              "      for await (const message of channel.messages) {\n",
              "        // Send a message to notify the kernel that we're ready.\n",
              "        channel.send({})\n",
              "        if (message.buffers) {\n",
              "          for (const buffer of message.buffers) {\n",
              "            buffers.push(buffer);\n",
              "            downloaded += buffer.byteLength;\n",
              "            progress.value = downloaded;\n",
              "          }\n",
              "        }\n",
              "      }\n",
              "      const blob = new Blob(buffers, {type: 'application/binary'});\n",
              "      const a = document.createElement('a');\n",
              "      a.href = window.URL.createObjectURL(blob);\n",
              "      a.download = filename;\n",
              "      div.appendChild(a);\n",
              "      a.click();\n",
              "      div.remove();\n",
              "    }\n",
              "  "
            ]
          },
          "metadata": {}
        },
        {
          "output_type": "display_data",
          "data": {
            "text/plain": [
              "<IPython.core.display.Javascript object>"
            ],
            "application/javascript": [
              "download(\"download_ebb6d135-b653-4a2a-a4ce-3ba4d5943068\", \"final_network.zip\", 10165945)"
            ]
          },
          "metadata": {}
        }
      ]
    },
    {
      "cell_type": "code",
      "source": [
        "!zip -r network.zip network"
      ],
      "metadata": {
        "colab": {
          "base_uri": "https://localhost:8080/"
        },
        "id": "xhY0bxyFnxHl",
        "outputId": "c95a9feb-c78d-47cd-b5b3-224993ef9cae"
      },
      "execution_count": null,
      "outputs": [
        {
          "output_type": "stream",
          "name": "stdout",
          "text": [
            "  adding: network/ (stored 0%)\n",
            "  adding: network/assets/ (stored 0%)\n",
            "  adding: network/variables/ (stored 0%)\n",
            "  adding: network/variables/variables.index (deflated 68%)\n",
            "  adding: network/variables/variables.data-00000-of-00001 (deflated 8%)\n",
            "  adding: network/saved_model.pb (deflated 89%)\n",
            "  adding: network/keras_metadata.pb (deflated 93%)\n"
          ]
        }
      ]
    },
    {
      "cell_type": "code",
      "source": [
        "from google.colab import files\n",
        "files.download(\"network.zip\")"
      ],
      "metadata": {
        "colab": {
          "base_uri": "https://localhost:8080/",
          "height": 17
        },
        "id": "Tt_xFWiooMmr",
        "outputId": "39beb83b-fdaf-4589-dd78-6cf896596537"
      },
      "execution_count": null,
      "outputs": [
        {
          "output_type": "display_data",
          "data": {
            "text/plain": [
              "<IPython.core.display.Javascript object>"
            ],
            "application/javascript": [
              "\n",
              "    async function download(id, filename, size) {\n",
              "      if (!google.colab.kernel.accessAllowed) {\n",
              "        return;\n",
              "      }\n",
              "      const div = document.createElement('div');\n",
              "      const label = document.createElement('label');\n",
              "      label.textContent = `Downloading \"${filename}\": `;\n",
              "      div.appendChild(label);\n",
              "      const progress = document.createElement('progress');\n",
              "      progress.max = size;\n",
              "      div.appendChild(progress);\n",
              "      document.body.appendChild(div);\n",
              "\n",
              "      const buffers = [];\n",
              "      let downloaded = 0;\n",
              "\n",
              "      const channel = await google.colab.kernel.comms.open(id);\n",
              "      // Send a message to notify the kernel that we're ready.\n",
              "      channel.send({})\n",
              "\n",
              "      for await (const message of channel.messages) {\n",
              "        // Send a message to notify the kernel that we're ready.\n",
              "        channel.send({})\n",
              "        if (message.buffers) {\n",
              "          for (const buffer of message.buffers) {\n",
              "            buffers.push(buffer);\n",
              "            downloaded += buffer.byteLength;\n",
              "            progress.value = downloaded;\n",
              "          }\n",
              "        }\n",
              "      }\n",
              "      const blob = new Blob(buffers, {type: 'application/binary'});\n",
              "      const a = document.createElement('a');\n",
              "      a.href = window.URL.createObjectURL(blob);\n",
              "      a.download = filename;\n",
              "      div.appendChild(a);\n",
              "      a.click();\n",
              "      div.remove();\n",
              "    }\n",
              "  "
            ]
          },
          "metadata": {}
        },
        {
          "output_type": "display_data",
          "data": {
            "text/plain": [
              "<IPython.core.display.Javascript object>"
            ],
            "application/javascript": [
              "download(\"download_ed82df47-f770-428d-b2d8-33e4278017ab\", \"network.zip\", 10184899)"
            ]
          },
          "metadata": {}
        }
      ]
    }
  ],
  "metadata": {
    "colab": {
      "provenance": []
    },
    "kernelspec": {
      "display_name": "Python 3",
      "language": "python",
      "name": "python3"
    },
    "language_info": {
      "codemirror_mode": {
        "name": "ipython",
        "version": 3
      },
      "file_extension": ".py",
      "mimetype": "text/x-python",
      "name": "python",
      "nbconvert_exporter": "python",
      "pygments_lexer": "ipython3",
      "version": "3.8.8"
    },
    "gpuClass": "standard",
    "accelerator": "GPU"
  },
  "nbformat": 4,
  "nbformat_minor": 0
}